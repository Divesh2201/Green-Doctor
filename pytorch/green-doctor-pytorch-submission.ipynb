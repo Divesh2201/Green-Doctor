{
 "cells": [
  {
   "cell_type": "code",
   "execution_count": 1,
   "id": "popular-letter",
   "metadata": {
    "execution": {
     "iopub.execute_input": "2021-10-13T13:29:51.084992Z",
     "iopub.status.busy": "2021-10-13T13:29:51.083192Z",
     "iopub.status.idle": "2021-10-13T13:29:51.089775Z",
     "shell.execute_reply": "2021-10-13T13:29:51.090269Z",
     "shell.execute_reply.started": "2021-10-06T19:49:29.130787Z"
    },
    "papermill": {
     "duration": 0.042317,
     "end_time": "2021-10-13T13:29:51.090576",
     "exception": false,
     "start_time": "2021-10-13T13:29:51.048259",
     "status": "completed"
    },
    "tags": []
   },
   "outputs": [],
   "source": [
    "%matplotlib inline\n",
    "\n",
    "import warnings\n",
    "warnings.filterwarnings('ignore')"
   ]
  },
  {
   "cell_type": "markdown",
   "id": "statistical-smoke",
   "metadata": {
    "papermill": {
     "duration": 0.028454,
     "end_time": "2021-10-13T13:29:51.149579",
     "exception": false,
     "start_time": "2021-10-13T13:29:51.121125",
     "status": "completed"
    },
    "tags": []
   },
   "source": [
    "# Plant2021 - PyTorch - Submission"
   ]
  },
  {
   "cell_type": "markdown",
   "id": "healthy-wallpaper",
   "metadata": {
    "papermill": {
     "duration": 0.02851,
     "end_time": "2021-10-13T13:29:51.208101",
     "exception": false,
     "start_time": "2021-10-13T13:29:51.179591",
     "status": "completed"
    },
    "tags": []
   },
   "source": [
    "# Overview\n",
    "\n",
    "* Plant Pathology 2021 Competition\n",
    "* Use pretrained PyTorch ResNet model\n",
    "* Multi-label classification\n",
    "\n",
    "\n",
    "The trained model was designed in the Norbook *Plant2021 - PyTorch - ResNet*. "
   ]
  },
  {
   "cell_type": "markdown",
   "id": "objective-donor",
   "metadata": {
    "papermill": {
     "duration": 0.02964,
     "end_time": "2021-10-13T13:29:51.266951",
     "exception": false,
     "start_time": "2021-10-13T13:29:51.237311",
     "status": "completed"
    },
    "tags": []
   },
   "source": [
    "## Imports"
   ]
  },
  {
   "cell_type": "code",
   "execution_count": 2,
   "id": "national-violation",
   "metadata": {
    "execution": {
     "iopub.execute_input": "2021-10-13T13:29:51.328600Z",
     "iopub.status.busy": "2021-10-13T13:29:51.327665Z",
     "iopub.status.idle": "2021-10-13T13:29:55.062093Z",
     "shell.execute_reply": "2021-10-13T13:29:55.062593Z",
     "shell.execute_reply.started": "2021-10-06T19:49:29.140669Z"
    },
    "papermill": {
     "duration": 3.767079,
     "end_time": "2021-10-13T13:29:55.062788",
     "exception": false,
     "start_time": "2021-10-13T13:29:51.295709",
     "status": "completed"
    },
    "tags": []
   },
   "outputs": [],
   "source": [
    "from typing import List, Dict\n",
    "\n",
    "import random\n",
    "import os\n",
    "\n",
    "import numpy as np\n",
    "import pandas as pd\n",
    "import PIL\n",
    "\n",
    "import albumentations as A\n",
    "from albumentations.pytorch import ToTensorV2\n",
    "\n",
    "import torchvision\n",
    "import torch.nn as nn\n",
    "import torch.nn.functional as F\n",
    "import torch.optim as optim\n",
    "\n",
    "from torchvision import transforms as T\n",
    "from torchvision.transforms import functional as F\n",
    "\n",
    "import skimage.io as io\n",
    "import skimage.feature\n",
    "from skimage import color\n",
    "from skimage import segmentation\n",
    "\n",
    "from tqdm.notebook import tqdm"
   ]
  },
  {
   "cell_type": "markdown",
   "id": "tight-beauty",
   "metadata": {
    "papermill": {
     "duration": 0.028523,
     "end_time": "2021-10-13T13:29:55.120317",
     "exception": false,
     "start_time": "2021-10-13T13:29:55.091794",
     "status": "completed"
    },
    "tags": []
   },
   "source": [
    "## Configuration"
   ]
  },
  {
   "cell_type": "code",
   "execution_count": 3,
   "id": "stopped-designer",
   "metadata": {
    "execution": {
     "iopub.execute_input": "2021-10-13T13:29:55.181690Z",
     "iopub.status.busy": "2021-10-13T13:29:55.180642Z",
     "iopub.status.idle": "2021-10-13T13:29:55.186418Z",
     "shell.execute_reply": "2021-10-13T13:29:55.186997Z",
     "shell.execute_reply.started": "2021-10-06T19:49:32.530805Z"
    },
    "papermill": {
     "duration": 0.038214,
     "end_time": "2021-10-13T13:29:55.187199",
     "exception": false,
     "start_time": "2021-10-13T13:29:55.148985",
     "status": "completed"
    },
    "tags": []
   },
   "outputs": [
    {
     "name": "stdout",
     "output_type": "stream",
     "text": [
      "1.7.0\n"
     ]
    }
   ],
   "source": [
    "import torch\n",
    "print(torch.__version__)"
   ]
  },
  {
   "cell_type": "code",
   "execution_count": 4,
   "id": "graduate-darkness",
   "metadata": {
    "execution": {
     "iopub.execute_input": "2021-10-13T13:29:55.252362Z",
     "iopub.status.busy": "2021-10-13T13:29:55.251624Z",
     "iopub.status.idle": "2021-10-13T13:29:55.320295Z",
     "shell.execute_reply": "2021-10-13T13:29:55.319553Z",
     "shell.execute_reply.started": "2021-10-06T19:49:32.537831Z"
    },
    "papermill": {
     "duration": 0.103463,
     "end_time": "2021-10-13T13:29:55.320462",
     "exception": false,
     "start_time": "2021-10-13T13:29:55.216999",
     "status": "completed"
    },
    "tags": []
   },
   "outputs": [],
   "source": [
    "import seaborn as sns\n",
    "import matplotlib.pyplot as plt\n",
    "\n",
    "plt.rc('font', size=15)\n",
    "plt.rc('axes', titlesize=18)  \n",
    "plt.rc('xtick', labelsize=10)  \n",
    "plt.rc('ytick', labelsize=10)"
   ]
  },
  {
   "cell_type": "code",
   "execution_count": 5,
   "id": "controversial-sender",
   "metadata": {
    "execution": {
     "iopub.execute_input": "2021-10-13T13:29:55.384275Z",
     "iopub.status.busy": "2021-10-13T13:29:55.383554Z",
     "iopub.status.idle": "2021-10-13T13:29:55.395711Z",
     "shell.execute_reply": "2021-10-13T13:29:55.395131Z",
     "shell.execute_reply.started": "2021-10-06T19:49:32.598943Z"
    },
    "papermill": {
     "duration": 0.045073,
     "end_time": "2021-10-13T13:29:55.395897",
     "exception": false,
     "start_time": "2021-10-13T13:29:55.350824",
     "status": "completed"
    },
    "tags": []
   },
   "outputs": [],
   "source": [
    "class Config: \n",
    "    DEVICE = 'cpu'\n",
    "    INPUT_PATH = '../input/plant-pathology-2021-fgvc8'\n",
    "    OUTPUT_PATH = './'\n",
    "    BATCH_SIZE = 32\n",
    "    RANDOM_STATE = 2021\n",
    "    SAMPLE_FRAC = 0.01\n",
    "    IMG_SIZE = 224\n",
    "    TRAIN_DATA_FILE = os.path.join(INPUT_PATH, 'train.csv')\n",
    "    SAMPLE_SUBMISSION_FILE = os.path.join(INPUT_PATH, 'sample_submission.csv')\n",
    "    SUBMISSION_FILE = os.path.join(OUTPUT_PATH, 'submission.csv')\n",
    "    MODEL_FILE = f'../input/plant2021-pytorch-resnet/plant2021_{DEVICE}.pth'\n",
    "    CLASSES = [\n",
    "        'rust', \n",
    "        'complex', \n",
    "        'healthy', \n",
    "        'powdery_mildew', \n",
    "        'scab', \n",
    "        'frog_eye_leaf_spot'\n",
    "    ]\n",
    "    N_CLASSES = len(CLASSES)\n",
    "    CLASS_THRESHOLD = 0.3\n",
    "    \n",
    "    folders = dict({\n",
    "        'data': INPUT_PATH,\n",
    "        'train':  os.path.join(INPUT_PATH, 'train_images'),\n",
    "        'test': os.path.join(INPUT_PATH, 'test_images')\n",
    "    })\n",
    "    \n",
    "    @staticmethod\n",
    "    def set_seed():\n",
    "        torch.manual_seed(Config.RANDOM_STATE)\n",
    "        random.seed(Config.RANDOM_STATE)\n",
    "        np.random.seed(Config.RANDOM_STATE)\n",
    "        \n",
    "Config.set_seed()        "
   ]
  },
  {
   "cell_type": "code",
   "execution_count": 6,
   "id": "aquatic-feedback",
   "metadata": {
    "execution": {
     "iopub.execute_input": "2021-10-13T13:29:55.458780Z",
     "iopub.status.busy": "2021-10-13T13:29:55.458162Z",
     "iopub.status.idle": "2021-10-13T13:29:55.466533Z",
     "shell.execute_reply": "2021-10-13T13:29:55.465605Z",
     "shell.execute_reply.started": "2021-10-06T19:49:32.611235Z"
    },
    "papermill": {
     "duration": 0.040779,
     "end_time": "2021-10-13T13:29:55.466745",
     "exception": false,
     "start_time": "2021-10-13T13:29:55.425966",
     "status": "completed"
    },
    "tags": []
   },
   "outputs": [
    {
     "name": "stdout",
     "output_type": "stream",
     "text": [
      "Using cpu device.\n"
     ]
    }
   ],
   "source": [
    "print(f'Using {Config.DEVICE} device.')"
   ]
  },
  {
   "cell_type": "code",
   "execution_count": 7,
   "id": "distributed-merit",
   "metadata": {
    "execution": {
     "iopub.execute_input": "2021-10-13T13:29:55.531582Z",
     "iopub.status.busy": "2021-10-13T13:29:55.530952Z",
     "iopub.status.idle": "2021-10-13T13:29:55.536279Z",
     "shell.execute_reply": "2021-10-13T13:29:55.536774Z",
     "shell.execute_reply.started": "2021-10-06T19:49:32.6184Z"
    },
    "papermill": {
     "duration": 0.0384,
     "end_time": "2021-10-13T13:29:55.536971",
     "exception": false,
     "start_time": "2021-10-13T13:29:55.498571",
     "status": "completed"
    },
    "tags": []
   },
   "outputs": [],
   "source": [
    "def to_numpy(tensor):\n",
    "    return tensor.detach().cpu().numpy() if tensor.requires_grad else tensor.cpu().numpy()"
   ]
  },
  {
   "cell_type": "markdown",
   "id": "mineral-mediterranean",
   "metadata": {
    "papermill": {
     "duration": 0.029728,
     "end_time": "2021-10-13T13:29:55.596068",
     "exception": false,
     "start_time": "2021-10-13T13:29:55.566340",
     "status": "completed"
    },
    "tags": []
   },
   "source": [
    "## Load images labels"
   ]
  },
  {
   "cell_type": "code",
   "execution_count": 8,
   "id": "normal-laundry",
   "metadata": {
    "execution": {
     "iopub.execute_input": "2021-10-13T13:29:55.660411Z",
     "iopub.status.busy": "2021-10-13T13:29:55.659683Z",
     "iopub.status.idle": "2021-10-13T13:29:55.663234Z",
     "shell.execute_reply": "2021-10-13T13:29:55.662655Z",
     "shell.execute_reply.started": "2021-10-06T19:49:32.627408Z"
    },
    "papermill": {
     "duration": 0.038207,
     "end_time": "2021-10-13T13:29:55.663376",
     "exception": false,
     "start_time": "2021-10-13T13:29:55.625169",
     "status": "completed"
    },
    "tags": []
   },
   "outputs": [],
   "source": [
    "def read_image_labels():\n",
    "    df = pd.read_csv(Config.TRAIN_DATA_FILE).set_index('image')\n",
    "    return df"
   ]
  },
  {
   "cell_type": "code",
   "execution_count": 9,
   "id": "robust-florence",
   "metadata": {
    "execution": {
     "iopub.execute_input": "2021-10-13T13:29:55.728216Z",
     "iopub.status.busy": "2021-10-13T13:29:55.727570Z",
     "iopub.status.idle": "2021-10-13T13:29:55.795830Z",
     "shell.execute_reply": "2021-10-13T13:29:55.795311Z",
     "shell.execute_reply.started": "2021-10-06T19:49:32.638888Z"
    },
    "papermill": {
     "duration": 0.103173,
     "end_time": "2021-10-13T13:29:55.795999",
     "exception": false,
     "start_time": "2021-10-13T13:29:55.692826",
     "status": "completed"
    },
    "tags": []
   },
   "outputs": [
    {
     "data": {
      "text/html": [
       "<div>\n",
       "<style scoped>\n",
       "    .dataframe tbody tr th:only-of-type {\n",
       "        vertical-align: middle;\n",
       "    }\n",
       "\n",
       "    .dataframe tbody tr th {\n",
       "        vertical-align: top;\n",
       "    }\n",
       "\n",
       "    .dataframe thead th {\n",
       "        text-align: right;\n",
       "    }\n",
       "</style>\n",
       "<table border=\"1\" class=\"dataframe\">\n",
       "  <thead>\n",
       "    <tr style=\"text-align: right;\">\n",
       "      <th></th>\n",
       "      <th>labels</th>\n",
       "    </tr>\n",
       "    <tr>\n",
       "      <th>image</th>\n",
       "      <th></th>\n",
       "    </tr>\n",
       "  </thead>\n",
       "  <tbody>\n",
       "    <tr>\n",
       "      <th>a6947239bc04b5fc.jpg</th>\n",
       "      <td>scab</td>\n",
       "    </tr>\n",
       "    <tr>\n",
       "      <th>fd30e99e465876c0.jpg</th>\n",
       "      <td>healthy</td>\n",
       "    </tr>\n",
       "    <tr>\n",
       "      <th>b3eb96cbb40254b2.jpg</th>\n",
       "      <td>rust</td>\n",
       "    </tr>\n",
       "    <tr>\n",
       "      <th>d5cd9d0c2ca2e3e4.jpg</th>\n",
       "      <td>scab</td>\n",
       "    </tr>\n",
       "    <tr>\n",
       "      <th>d5f403d4fb2c5069.jpg</th>\n",
       "      <td>healthy</td>\n",
       "    </tr>\n",
       "  </tbody>\n",
       "</table>\n",
       "</div>"
      ],
      "text/plain": [
       "                       labels\n",
       "image                        \n",
       "a6947239bc04b5fc.jpg     scab\n",
       "fd30e99e465876c0.jpg  healthy\n",
       "b3eb96cbb40254b2.jpg     rust\n",
       "d5cd9d0c2ca2e3e4.jpg     scab\n",
       "d5f403d4fb2c5069.jpg  healthy"
      ]
     },
     "execution_count": 9,
     "metadata": {},
     "output_type": "execute_result"
    }
   ],
   "source": [
    "img_labels = read_image_labels().sample(\n",
    "    frac=Config.SAMPLE_FRAC, \n",
    "    random_state=Config.RANDOM_STATE\n",
    ")\n",
    "\n",
    "img_labels.head()"
   ]
  },
  {
   "cell_type": "code",
   "execution_count": 10,
   "id": "cheap-arrow",
   "metadata": {
    "execution": {
     "iopub.execute_input": "2021-10-13T13:29:55.862009Z",
     "iopub.status.busy": "2021-10-13T13:29:55.861101Z",
     "iopub.status.idle": "2021-10-13T13:29:55.879121Z",
     "shell.execute_reply": "2021-10-13T13:29:55.879603Z",
     "shell.execute_reply.started": "2021-10-06T19:49:32.709348Z"
    },
    "papermill": {
     "duration": 0.05383,
     "end_time": "2021-10-13T13:29:55.879807",
     "exception": false,
     "start_time": "2021-10-13T13:29:55.825977",
     "status": "completed"
    },
    "tags": []
   },
   "outputs": [
    {
     "data": {
      "text/html": [
       "<div>\n",
       "<style scoped>\n",
       "    .dataframe tbody tr th:only-of-type {\n",
       "        vertical-align: middle;\n",
       "    }\n",
       "\n",
       "    .dataframe tbody tr th {\n",
       "        vertical-align: top;\n",
       "    }\n",
       "\n",
       "    .dataframe thead th {\n",
       "        text-align: right;\n",
       "    }\n",
       "</style>\n",
       "<table border=\"1\" class=\"dataframe\">\n",
       "  <thead>\n",
       "    <tr style=\"text-align: right;\">\n",
       "      <th></th>\n",
       "      <th>labels</th>\n",
       "    </tr>\n",
       "    <tr>\n",
       "      <th>image</th>\n",
       "      <th></th>\n",
       "    </tr>\n",
       "  </thead>\n",
       "  <tbody>\n",
       "    <tr>\n",
       "      <th>85f8cb619c66b863.jpg</th>\n",
       "      <td>healthy</td>\n",
       "    </tr>\n",
       "    <tr>\n",
       "      <th>ad8770db05586b59.jpg</th>\n",
       "      <td>healthy</td>\n",
       "    </tr>\n",
       "    <tr>\n",
       "      <th>c7b03e718489f3ca.jpg</th>\n",
       "      <td>healthy</td>\n",
       "    </tr>\n",
       "  </tbody>\n",
       "</table>\n",
       "</div>"
      ],
      "text/plain": [
       "                       labels\n",
       "image                        \n",
       "85f8cb619c66b863.jpg  healthy\n",
       "ad8770db05586b59.jpg  healthy\n",
       "c7b03e718489f3ca.jpg  healthy"
      ]
     },
     "execution_count": 10,
     "metadata": {},
     "output_type": "execute_result"
    }
   ],
   "source": [
    "image_ids = pd.read_csv(Config.SAMPLE_SUBMISSION_FILE).set_index('image')\n",
    "image_ids"
   ]
  },
  {
   "cell_type": "markdown",
   "id": "instrumental-ultimate",
   "metadata": {
    "papermill": {
     "duration": 0.030545,
     "end_time": "2021-10-13T13:29:55.941899",
     "exception": false,
     "start_time": "2021-10-13T13:29:55.911354",
     "status": "completed"
    },
    "tags": []
   },
   "source": [
    "## Label distribution"
   ]
  },
  {
   "cell_type": "code",
   "execution_count": 11,
   "id": "balanced-bedroom",
   "metadata": {
    "execution": {
     "iopub.execute_input": "2021-10-13T13:29:56.008727Z",
     "iopub.status.busy": "2021-10-13T13:29:56.007812Z",
     "iopub.status.idle": "2021-10-13T13:29:56.013335Z",
     "shell.execute_reply": "2021-10-13T13:29:56.013900Z",
     "shell.execute_reply.started": "2021-10-06T19:49:32.727874Z"
    },
    "papermill": {
     "duration": 0.041383,
     "end_time": "2021-10-13T13:29:56.014110",
     "exception": false,
     "start_time": "2021-10-13T13:29:55.972727",
     "status": "completed"
    },
    "tags": []
   },
   "outputs": [],
   "source": [
    "def get_image_infos(img_labels):\n",
    "    df = img_labels.reset_index().groupby(by='labels').count().reset_index()\n",
    "    df.columns = ['disease', 'count']\n",
    "    \n",
    "    df['%'] = np.round((df['count'] / img_labels.shape[0]), 2) * 100\n",
    "    df = df.set_index('disease').sort_values(by='count', ascending=False)\n",
    "\n",
    "    return df"
   ]
  },
  {
   "cell_type": "code",
   "execution_count": 12,
   "id": "australian-banana",
   "metadata": {
    "execution": {
     "iopub.execute_input": "2021-10-13T13:29:56.083081Z",
     "iopub.status.busy": "2021-10-13T13:29:56.082325Z",
     "iopub.status.idle": "2021-10-13T13:29:56.122650Z",
     "shell.execute_reply": "2021-10-13T13:29:56.123216Z",
     "shell.execute_reply.started": "2021-10-06T19:49:32.735558Z"
    },
    "papermill": {
     "duration": 0.077235,
     "end_time": "2021-10-13T13:29:56.123425",
     "exception": false,
     "start_time": "2021-10-13T13:29:56.046190",
     "status": "completed"
    },
    "tags": []
   },
   "outputs": [
    {
     "data": {
      "text/html": [
       "<div>\n",
       "<style scoped>\n",
       "    .dataframe tbody tr th:only-of-type {\n",
       "        vertical-align: middle;\n",
       "    }\n",
       "\n",
       "    .dataframe tbody tr th {\n",
       "        vertical-align: top;\n",
       "    }\n",
       "\n",
       "    .dataframe thead th {\n",
       "        text-align: right;\n",
       "    }\n",
       "</style>\n",
       "<table border=\"1\" class=\"dataframe\">\n",
       "  <thead>\n",
       "    <tr style=\"text-align: right;\">\n",
       "      <th></th>\n",
       "      <th>count</th>\n",
       "      <th>%</th>\n",
       "    </tr>\n",
       "    <tr>\n",
       "      <th>disease</th>\n",
       "      <th></th>\n",
       "      <th></th>\n",
       "    </tr>\n",
       "  </thead>\n",
       "  <tbody>\n",
       "    <tr>\n",
       "      <th>scab</th>\n",
       "      <td>52</td>\n",
       "      <td>28.0</td>\n",
       "    </tr>\n",
       "    <tr>\n",
       "      <th>healthy</th>\n",
       "      <td>45</td>\n",
       "      <td>24.0</td>\n",
       "    </tr>\n",
       "    <tr>\n",
       "      <th>frog_eye_leaf_spot</th>\n",
       "      <td>36</td>\n",
       "      <td>19.0</td>\n",
       "    </tr>\n",
       "    <tr>\n",
       "      <th>rust</th>\n",
       "      <td>19</td>\n",
       "      <td>10.0</td>\n",
       "    </tr>\n",
       "    <tr>\n",
       "      <th>complex</th>\n",
       "      <td>15</td>\n",
       "      <td>8.0</td>\n",
       "    </tr>\n",
       "    <tr>\n",
       "      <th>powdery_mildew</th>\n",
       "      <td>7</td>\n",
       "      <td>4.0</td>\n",
       "    </tr>\n",
       "    <tr>\n",
       "      <th>scab frog_eye_leaf_spot</th>\n",
       "      <td>4</td>\n",
       "      <td>2.0</td>\n",
       "    </tr>\n",
       "    <tr>\n",
       "      <th>frog_eye_leaf_spot complex</th>\n",
       "      <td>3</td>\n",
       "      <td>2.0</td>\n",
       "    </tr>\n",
       "    <tr>\n",
       "      <th>rust complex</th>\n",
       "      <td>2</td>\n",
       "      <td>1.0</td>\n",
       "    </tr>\n",
       "    <tr>\n",
       "      <th>powdery_mildew complex</th>\n",
       "      <td>1</td>\n",
       "      <td>1.0</td>\n",
       "    </tr>\n",
       "    <tr>\n",
       "      <th>rust frog_eye_leaf_spot</th>\n",
       "      <td>1</td>\n",
       "      <td>1.0</td>\n",
       "    </tr>\n",
       "    <tr>\n",
       "      <th>scab frog_eye_leaf_spot complex</th>\n",
       "      <td>1</td>\n",
       "      <td>1.0</td>\n",
       "    </tr>\n",
       "  </tbody>\n",
       "</table>\n",
       "</div>"
      ],
      "text/plain": [
       "                                 count     %\n",
       "disease                                     \n",
       "scab                                52  28.0\n",
       "healthy                             45  24.0\n",
       "frog_eye_leaf_spot                  36  19.0\n",
       "rust                                19  10.0\n",
       "complex                             15   8.0\n",
       "powdery_mildew                       7   4.0\n",
       "scab frog_eye_leaf_spot              4   2.0\n",
       "frog_eye_leaf_spot complex           3   2.0\n",
       "rust complex                         2   1.0\n",
       "powdery_mildew complex               1   1.0\n",
       "rust frog_eye_leaf_spot              1   1.0\n",
       "scab frog_eye_leaf_spot complex      1   1.0"
      ]
     },
     "execution_count": 12,
     "metadata": {},
     "output_type": "execute_result"
    }
   ],
   "source": [
    "get_image_infos(img_labels)"
   ]
  },
  {
   "cell_type": "code",
   "execution_count": 13,
   "id": "allied-eating",
   "metadata": {
    "execution": {
     "iopub.execute_input": "2021-10-13T13:29:56.197169Z",
     "iopub.status.busy": "2021-10-13T13:29:56.196207Z",
     "iopub.status.idle": "2021-10-13T13:29:56.200103Z",
     "shell.execute_reply": "2021-10-13T13:29:56.200633Z",
     "shell.execute_reply.started": "2021-10-06T19:49:32.772598Z"
    },
    "papermill": {
     "duration": 0.045311,
     "end_time": "2021-10-13T13:29:56.200826",
     "exception": false,
     "start_time": "2021-10-13T13:29:56.155515",
     "status": "completed"
    },
    "tags": []
   },
   "outputs": [
    {
     "data": {
      "text/html": [
       "<div>\n",
       "<style scoped>\n",
       "    .dataframe tbody tr th:only-of-type {\n",
       "        vertical-align: middle;\n",
       "    }\n",
       "\n",
       "    .dataframe tbody tr th {\n",
       "        vertical-align: top;\n",
       "    }\n",
       "\n",
       "    .dataframe thead th {\n",
       "        text-align: right;\n",
       "    }\n",
       "</style>\n",
       "<table border=\"1\" class=\"dataframe\">\n",
       "  <thead>\n",
       "    <tr style=\"text-align: right;\">\n",
       "      <th></th>\n",
       "      <th>labels</th>\n",
       "    </tr>\n",
       "    <tr>\n",
       "      <th>image</th>\n",
       "      <th></th>\n",
       "    </tr>\n",
       "  </thead>\n",
       "  <tbody>\n",
       "    <tr>\n",
       "      <th>a6947239bc04b5fc.jpg</th>\n",
       "      <td>scab</td>\n",
       "    </tr>\n",
       "    <tr>\n",
       "      <th>fd30e99e465876c0.jpg</th>\n",
       "      <td>healthy</td>\n",
       "    </tr>\n",
       "    <tr>\n",
       "      <th>b3eb96cbb40254b2.jpg</th>\n",
       "      <td>rust</td>\n",
       "    </tr>\n",
       "    <tr>\n",
       "      <th>d5cd9d0c2ca2e3e4.jpg</th>\n",
       "      <td>scab</td>\n",
       "    </tr>\n",
       "    <tr>\n",
       "      <th>d5f403d4fb2c5069.jpg</th>\n",
       "      <td>healthy</td>\n",
       "    </tr>\n",
       "  </tbody>\n",
       "</table>\n",
       "</div>"
      ],
      "text/plain": [
       "                       labels\n",
       "image                        \n",
       "a6947239bc04b5fc.jpg     scab\n",
       "fd30e99e465876c0.jpg  healthy\n",
       "b3eb96cbb40254b2.jpg     rust\n",
       "d5cd9d0c2ca2e3e4.jpg     scab\n",
       "d5f403d4fb2c5069.jpg  healthy"
      ]
     },
     "execution_count": 13,
     "metadata": {},
     "output_type": "execute_result"
    }
   ],
   "source": [
    "img_labels.head()"
   ]
  },
  {
   "cell_type": "markdown",
   "id": "nominated-wrapping",
   "metadata": {
    "papermill": {
     "duration": 0.031318,
     "end_time": "2021-10-13T13:29:56.263711",
     "exception": false,
     "start_time": "2021-10-13T13:29:56.232393",
     "status": "completed"
    },
    "tags": []
   },
   "source": [
    "## One hot encoding"
   ]
  },
  {
   "cell_type": "code",
   "execution_count": 14,
   "id": "abandoned-faith",
   "metadata": {
    "execution": {
     "iopub.execute_input": "2021-10-13T13:29:56.331531Z",
     "iopub.status.busy": "2021-10-13T13:29:56.330461Z",
     "iopub.status.idle": "2021-10-13T13:29:56.336149Z",
     "shell.execute_reply": "2021-10-13T13:29:56.336713Z",
     "shell.execute_reply.started": "2021-10-06T19:49:32.782339Z"
    },
    "papermill": {
     "duration": 0.041548,
     "end_time": "2021-10-13T13:29:56.336931",
     "exception": false,
     "start_time": "2021-10-13T13:29:56.295383",
     "status": "completed"
    },
    "tags": []
   },
   "outputs": [],
   "source": [
    "def get_single_labels(unique_labels) -> List[str]:\n",
    "    single_labels = []\n",
    "    \n",
    "    for label in unique_labels:\n",
    "        single_labels += label.split()\n",
    "        \n",
    "    single_labels = set(single_labels)\n",
    "    return list(single_labels)"
   ]
  },
  {
   "cell_type": "code",
   "execution_count": 15,
   "id": "desperate-longer",
   "metadata": {
    "execution": {
     "iopub.execute_input": "2021-10-13T13:29:56.404908Z",
     "iopub.status.busy": "2021-10-13T13:29:56.403912Z",
     "iopub.status.idle": "2021-10-13T13:29:56.410363Z",
     "shell.execute_reply": "2021-10-13T13:29:56.410910Z",
     "shell.execute_reply.started": "2021-10-06T19:49:32.791389Z"
    },
    "papermill": {
     "duration": 0.04275,
     "end_time": "2021-10-13T13:29:56.411129",
     "exception": false,
     "start_time": "2021-10-13T13:29:56.368379",
     "status": "completed"
    },
    "tags": []
   },
   "outputs": [],
   "source": [
    "def get_one_hot_encoded_labels(dataset_df) -> pd.DataFrame:\n",
    "    df = dataset_df.copy()\n",
    "    \n",
    "    unique_labels = df.labels.unique()\n",
    "    column_names = get_single_labels(unique_labels)\n",
    "    \n",
    "    df[column_names] = 0        \n",
    "    \n",
    "    # one-hot-encoding\n",
    "    for label in unique_labels:                \n",
    "        label_indices = df[df['labels'] == label].index\n",
    "        splited_labels = label.split()\n",
    "        df.loc[label_indices, splited_labels] = 1\n",
    "    \n",
    "    return df"
   ]
  },
  {
   "cell_type": "code",
   "execution_count": 16,
   "id": "covered-contents",
   "metadata": {
    "execution": {
     "iopub.execute_input": "2021-10-13T13:29:56.480951Z",
     "iopub.status.busy": "2021-10-13T13:29:56.479814Z",
     "iopub.status.idle": "2021-10-13T13:29:56.521483Z",
     "shell.execute_reply": "2021-10-13T13:29:56.520915Z",
     "shell.execute_reply.started": "2021-10-06T19:49:32.801989Z"
    },
    "papermill": {
     "duration": 0.077923,
     "end_time": "2021-10-13T13:29:56.521644",
     "exception": false,
     "start_time": "2021-10-13T13:29:56.443721",
     "status": "completed"
    },
    "tags": []
   },
   "outputs": [
    {
     "data": {
      "text/html": [
       "<div>\n",
       "<style scoped>\n",
       "    .dataframe tbody tr th:only-of-type {\n",
       "        vertical-align: middle;\n",
       "    }\n",
       "\n",
       "    .dataframe tbody tr th {\n",
       "        vertical-align: top;\n",
       "    }\n",
       "\n",
       "    .dataframe thead th {\n",
       "        text-align: right;\n",
       "    }\n",
       "</style>\n",
       "<table border=\"1\" class=\"dataframe\">\n",
       "  <thead>\n",
       "    <tr style=\"text-align: right;\">\n",
       "      <th></th>\n",
       "      <th>labels</th>\n",
       "      <th>scab</th>\n",
       "      <th>healthy</th>\n",
       "      <th>powdery_mildew</th>\n",
       "      <th>complex</th>\n",
       "      <th>rust</th>\n",
       "      <th>frog_eye_leaf_spot</th>\n",
       "    </tr>\n",
       "    <tr>\n",
       "      <th>image</th>\n",
       "      <th></th>\n",
       "      <th></th>\n",
       "      <th></th>\n",
       "      <th></th>\n",
       "      <th></th>\n",
       "      <th></th>\n",
       "      <th></th>\n",
       "    </tr>\n",
       "  </thead>\n",
       "  <tbody>\n",
       "    <tr>\n",
       "      <th>a6947239bc04b5fc.jpg</th>\n",
       "      <td>scab</td>\n",
       "      <td>1</td>\n",
       "      <td>0</td>\n",
       "      <td>0</td>\n",
       "      <td>0</td>\n",
       "      <td>0</td>\n",
       "      <td>0</td>\n",
       "    </tr>\n",
       "    <tr>\n",
       "      <th>fd30e99e465876c0.jpg</th>\n",
       "      <td>healthy</td>\n",
       "      <td>0</td>\n",
       "      <td>1</td>\n",
       "      <td>0</td>\n",
       "      <td>0</td>\n",
       "      <td>0</td>\n",
       "      <td>0</td>\n",
       "    </tr>\n",
       "    <tr>\n",
       "      <th>b3eb96cbb40254b2.jpg</th>\n",
       "      <td>rust</td>\n",
       "      <td>0</td>\n",
       "      <td>0</td>\n",
       "      <td>0</td>\n",
       "      <td>0</td>\n",
       "      <td>1</td>\n",
       "      <td>0</td>\n",
       "    </tr>\n",
       "    <tr>\n",
       "      <th>d5cd9d0c2ca2e3e4.jpg</th>\n",
       "      <td>scab</td>\n",
       "      <td>1</td>\n",
       "      <td>0</td>\n",
       "      <td>0</td>\n",
       "      <td>0</td>\n",
       "      <td>0</td>\n",
       "      <td>0</td>\n",
       "    </tr>\n",
       "    <tr>\n",
       "      <th>d5f403d4fb2c5069.jpg</th>\n",
       "      <td>healthy</td>\n",
       "      <td>0</td>\n",
       "      <td>1</td>\n",
       "      <td>0</td>\n",
       "      <td>0</td>\n",
       "      <td>0</td>\n",
       "      <td>0</td>\n",
       "    </tr>\n",
       "  </tbody>\n",
       "</table>\n",
       "</div>"
      ],
      "text/plain": [
       "                       labels  scab  healthy  powdery_mildew  complex  rust  \\\n",
       "image                                                                         \n",
       "a6947239bc04b5fc.jpg     scab     1        0               0        0     0   \n",
       "fd30e99e465876c0.jpg  healthy     0        1               0        0     0   \n",
       "b3eb96cbb40254b2.jpg     rust     0        0               0        0     1   \n",
       "d5cd9d0c2ca2e3e4.jpg     scab     1        0               0        0     0   \n",
       "d5f403d4fb2c5069.jpg  healthy     0        1               0        0     0   \n",
       "\n",
       "                      frog_eye_leaf_spot  \n",
       "image                                     \n",
       "a6947239bc04b5fc.jpg                   0  \n",
       "fd30e99e465876c0.jpg                   0  \n",
       "b3eb96cbb40254b2.jpg                   0  \n",
       "d5cd9d0c2ca2e3e4.jpg                   0  \n",
       "d5f403d4fb2c5069.jpg                   0  "
      ]
     },
     "execution_count": 16,
     "metadata": {},
     "output_type": "execute_result"
    }
   ],
   "source": [
    "one_hot_encoded_labels = get_one_hot_encoded_labels(img_labels)\n",
    "one_hot_encoded_labels.head()"
   ]
  },
  {
   "cell_type": "markdown",
   "id": "utility-embassy",
   "metadata": {
    "papermill": {
     "duration": 0.032724,
     "end_time": "2021-10-13T13:29:56.586410",
     "exception": false,
     "start_time": "2021-10-13T13:29:56.553686",
     "status": "completed"
    },
    "tags": []
   },
   "source": [
    "## Visualization of images"
   ]
  },
  {
   "cell_type": "code",
   "execution_count": 17,
   "id": "amber-turkey",
   "metadata": {
    "execution": {
     "iopub.execute_input": "2021-10-13T13:29:56.658220Z",
     "iopub.status.busy": "2021-10-13T13:29:56.657335Z",
     "iopub.status.idle": "2021-10-13T13:29:56.659940Z",
     "shell.execute_reply": "2021-10-13T13:29:56.660510Z",
     "shell.execute_reply.started": "2021-10-06T19:49:32.843572Z"
    },
    "papermill": {
     "duration": 0.040704,
     "end_time": "2021-10-13T13:29:56.660687",
     "exception": false,
     "start_time": "2021-10-13T13:29:56.619983",
     "status": "completed"
    },
    "tags": []
   },
   "outputs": [],
   "source": [
    "def get_image(image_id, kind='train'):\n",
    "    \"\"\"Loads an image from file\n",
    "    \"\"\"\n",
    "    fname = os.path.join(Config.folders[kind], image_id)\n",
    "    return PIL.Image.open(fname)"
   ]
  },
  {
   "cell_type": "markdown",
   "id": "public-conference",
   "metadata": {
    "papermill": {
     "duration": 0.031403,
     "end_time": "2021-10-13T13:29:56.724067",
     "exception": false,
     "start_time": "2021-10-13T13:29:56.692664",
     "status": "completed"
    },
    "tags": []
   },
   "source": [
    "## Augmentation pipeline"
   ]
  },
  {
   "cell_type": "code",
   "execution_count": 18,
   "id": "buried-protein",
   "metadata": {
    "execution": {
     "iopub.execute_input": "2021-10-13T13:29:56.791015Z",
     "iopub.status.busy": "2021-10-13T13:29:56.790084Z",
     "iopub.status.idle": "2021-10-13T13:29:56.795950Z",
     "shell.execute_reply": "2021-10-13T13:29:56.796519Z",
     "shell.execute_reply.started": "2021-10-06T19:49:32.850454Z"
    },
    "papermill": {
     "duration": 0.040926,
     "end_time": "2021-10-13T13:29:56.796689",
     "exception": false,
     "start_time": "2021-10-13T13:29:56.755763",
     "status": "completed"
    },
    "tags": []
   },
   "outputs": [],
   "source": [
    "image_transfom = A.Compose([\n",
    "    A.Resize(\n",
    "        height=Config.IMG_SIZE,\n",
    "        width=Config.IMG_SIZE,\n",
    "    ),\n",
    "    A.Normalize(\n",
    "        mean=(0.485, 0.456, 0.406), \n",
    "        std=(0.229, 0.224, 0.225)\n",
    "    ),\n",
    "    ToTensorV2(),\n",
    "])"
   ]
  },
  {
   "cell_type": "markdown",
   "id": "amateur-accident",
   "metadata": {
    "papermill": {
     "duration": 0.031492,
     "end_time": "2021-10-13T13:29:56.860255",
     "exception": false,
     "start_time": "2021-10-13T13:29:56.828763",
     "status": "completed"
    },
    "tags": []
   },
   "source": [
    "## Database"
   ]
  },
  {
   "cell_type": "code",
   "execution_count": 19,
   "id": "saving-vatican",
   "metadata": {
    "execution": {
     "iopub.execute_input": "2021-10-13T13:29:56.928101Z",
     "iopub.status.busy": "2021-10-13T13:29:56.927138Z",
     "iopub.status.idle": "2021-10-13T13:29:56.935856Z",
     "shell.execute_reply": "2021-10-13T13:29:56.936440Z",
     "shell.execute_reply.started": "2021-10-06T19:49:32.860872Z"
    },
    "papermill": {
     "duration": 0.044157,
     "end_time": "2021-10-13T13:29:56.936653",
     "exception": false,
     "start_time": "2021-10-13T13:29:56.892496",
     "status": "completed"
    },
    "tags": []
   },
   "outputs": [],
   "source": [
    "from scipy.stats import bernoulli\n",
    "from torch.utils.data import Dataset\n",
    "from torch.utils.data import DataLoader\n",
    "\n",
    "class PlantDataset(Dataset):\n",
    "    def __init__(self, \n",
    "                 image_ids, \n",
    "                 targets,\n",
    "                 transform=None, \n",
    "                 target_transform=None, \n",
    "                 kind='train'):\n",
    "        self.image_ids = image_ids\n",
    "        self.targets = targets\n",
    "        self.transform = transform\n",
    "        self.target_transform = target_transform\n",
    "        self.kind = kind\n",
    "    \n",
    "    def __len__(self):\n",
    "        return len(self.image_ids)\n",
    "    \n",
    "    def __getitem__(self, idx):\n",
    "        img = np.array(get_image(self.image_ids.iloc[idx], kind=self.kind))\n",
    "        \n",
    "        if self.transform:\n",
    "            img = self.transform(image=img)['image']\n",
    "        \n",
    "        target = self.targets[idx]\n",
    "        if self.target_transform:\n",
    "            target = self.target_transform(target)\n",
    "        \n",
    "        return img, target"
   ]
  },
  {
   "cell_type": "code",
   "execution_count": 20,
   "id": "universal-booking",
   "metadata": {
    "execution": {
     "iopub.execute_input": "2021-10-13T13:29:57.004192Z",
     "iopub.status.busy": "2021-10-13T13:29:57.003184Z",
     "iopub.status.idle": "2021-10-13T13:29:57.009488Z",
     "shell.execute_reply": "2021-10-13T13:29:57.010036Z",
     "shell.execute_reply.started": "2021-10-06T19:49:32.875597Z"
    },
    "papermill": {
     "duration": 0.041953,
     "end_time": "2021-10-13T13:29:57.010210",
     "exception": false,
     "start_time": "2021-10-13T13:29:56.968257",
     "status": "completed"
    },
    "tags": []
   },
   "outputs": [],
   "source": [
    "X_val = pd.Series(img_labels.index)\n",
    "y_val = np.array(one_hot_encoded_labels[Config.CLASSES])"
   ]
  },
  {
   "cell_type": "code",
   "execution_count": 21,
   "id": "working-pressing",
   "metadata": {
    "execution": {
     "iopub.execute_input": "2021-10-13T13:29:57.078345Z",
     "iopub.status.busy": "2021-10-13T13:29:57.077371Z",
     "iopub.status.idle": "2021-10-13T13:29:57.082496Z",
     "shell.execute_reply": "2021-10-13T13:29:57.083091Z",
     "shell.execute_reply.started": "2021-10-06T19:49:32.887546Z"
    },
    "papermill": {
     "duration": 0.040665,
     "end_time": "2021-10-13T13:29:57.083282",
     "exception": false,
     "start_time": "2021-10-13T13:29:57.042617",
     "status": "completed"
    },
    "tags": []
   },
   "outputs": [],
   "source": [
    "val_set = PlantDataset(X_val, y_val, transform=image_transfom, kind='train')\n",
    "val_loader = DataLoader(val_set, batch_size=Config.BATCH_SIZE, shuffle=True)"
   ]
  },
  {
   "cell_type": "markdown",
   "id": "bulgarian-pension",
   "metadata": {
    "papermill": {
     "duration": 0.032353,
     "end_time": "2021-10-13T13:29:57.148271",
     "exception": false,
     "start_time": "2021-10-13T13:29:57.115918",
     "status": "completed"
    },
    "tags": []
   },
   "source": [
    "## Create model and load weights"
   ]
  },
  {
   "cell_type": "code",
   "execution_count": 22,
   "id": "bulgarian-signature",
   "metadata": {
    "execution": {
     "iopub.execute_input": "2021-10-13T13:29:57.217375Z",
     "iopub.status.busy": "2021-10-13T13:29:57.216381Z",
     "iopub.status.idle": "2021-10-13T13:29:58.208585Z",
     "shell.execute_reply": "2021-10-13T13:29:58.209089Z",
     "shell.execute_reply.started": "2021-10-06T19:49:32.896395Z"
    },
    "papermill": {
     "duration": 1.027714,
     "end_time": "2021-10-13T13:29:58.209281",
     "exception": false,
     "start_time": "2021-10-13T13:29:57.181567",
     "status": "completed"
    },
    "tags": []
   },
   "outputs": [],
   "source": [
    "model = model = torch.load('../input/ppresearch02/densenet121_0layers_hyp1.pt', map_location=torch.device('cpu'))"
   ]
  },
  {
   "cell_type": "markdown",
   "id": "hidden-member",
   "metadata": {
    "papermill": {
     "duration": 0.03131,
     "end_time": "2021-10-13T13:29:58.272525",
     "exception": false,
     "start_time": "2021-10-13T13:29:58.241215",
     "status": "completed"
    },
    "tags": []
   },
   "source": [
    "## Confusion matrix"
   ]
  },
  {
   "cell_type": "code",
   "execution_count": 23,
   "id": "affiliated-waste",
   "metadata": {
    "execution": {
     "iopub.execute_input": "2021-10-13T13:29:58.344889Z",
     "iopub.status.busy": "2021-10-13T13:29:58.344125Z",
     "iopub.status.idle": "2021-10-13T13:29:58.347177Z",
     "shell.execute_reply": "2021-10-13T13:29:58.346655Z",
     "shell.execute_reply.started": "2021-10-06T19:49:34.041437Z"
    },
    "papermill": {
     "duration": 0.043023,
     "end_time": "2021-10-13T13:29:58.347319",
     "exception": false,
     "start_time": "2021-10-13T13:29:58.304296",
     "status": "completed"
    },
    "tags": []
   },
   "outputs": [],
   "source": [
    "def predict(model, loader):\n",
    "    y_true = np.empty(shape=(0, 6), dtype=np.int)\n",
    "    y_pred_proba = np.empty(shape=(0, 6), dtype=np.int)\n",
    "\n",
    "    stream = tqdm(loader)\n",
    "    for batch, (X, y) in enumerate(stream, start=1):\n",
    "        X = X.to(Config.DEVICE)\n",
    "        y = to_numpy(y.to(Config.DEVICE))\n",
    "        pred = to_numpy(model(X))\n",
    "\n",
    "        y_true = np.vstack((y_true, y))\n",
    "        y_pred_proba = np.vstack((y_pred_proba, pred))\n",
    "        \n",
    "    return y_true, y_pred_proba"
   ]
  },
  {
   "cell_type": "code",
   "execution_count": 24,
   "id": "august-vienna",
   "metadata": {
    "execution": {
     "iopub.execute_input": "2021-10-13T13:29:58.415897Z",
     "iopub.status.busy": "2021-10-13T13:29:58.415223Z",
     "iopub.status.idle": "2021-10-13T13:31:05.855949Z",
     "shell.execute_reply": "2021-10-13T13:31:05.856390Z",
     "shell.execute_reply.started": "2021-10-06T19:49:34.049998Z"
    },
    "papermill": {
     "duration": 67.477757,
     "end_time": "2021-10-13T13:31:05.856578",
     "exception": false,
     "start_time": "2021-10-13T13:29:58.378821",
     "status": "completed"
    },
    "tags": []
   },
   "outputs": [
    {
     "data": {
      "application/vnd.jupyter.widget-view+json": {
       "model_id": "4ee729cc15b9442888322604437194e0",
       "version_major": 2,
       "version_minor": 0
      },
      "text/plain": [
       "  0%|          | 0/6 [00:00<?, ?it/s]"
      ]
     },
     "metadata": {},
     "output_type": "display_data"
    }
   ],
   "source": [
    "y_true, y_pred_proba = predict(model, val_loader)"
   ]
  },
  {
   "cell_type": "code",
   "execution_count": 25,
   "id": "hybrid-truck",
   "metadata": {
    "execution": {
     "iopub.execute_input": "2021-10-13T13:31:05.924400Z",
     "iopub.status.busy": "2021-10-13T13:31:05.923728Z",
     "iopub.status.idle": "2021-10-13T13:31:06.107225Z",
     "shell.execute_reply": "2021-10-13T13:31:06.106522Z",
     "shell.execute_reply.started": "2021-10-06T19:50:50.706646Z"
    },
    "papermill": {
     "duration": 0.218323,
     "end_time": "2021-10-13T13:31:06.107403",
     "exception": false,
     "start_time": "2021-10-13T13:31:05.889080",
     "status": "completed"
    },
    "tags": []
   },
   "outputs": [],
   "source": [
    "from sklearn.metrics import multilabel_confusion_matrix\n",
    "\n",
    "def plot_confusion_matrix(\n",
    "    y_test, \n",
    "    y_pred_proba, \n",
    "    threshold=Config.CLASS_THRESHOLD, \n",
    "    label_names=Config.CLASSES\n",
    ")-> None:\n",
    "    y_pred = np.where(y_pred_proba > threshold, 1, 0)\n",
    "    c_matrices = multilabel_confusion_matrix(y_test, y_pred)\n",
    "    \n",
    "    cmap = plt.get_cmap('Blues')\n",
    "    fig, axes = plt.subplots(nrows=2, ncols=3, figsize=(15, 8))\n",
    "\n",
    "    for cm, label, ax in zip(c_matrices, label_names, axes.flatten()):\n",
    "        sns.heatmap(cm, annot=True, fmt='g', ax=ax, cmap=cmap);\n",
    "\n",
    "        ax.set_xlabel('Predicted labels');\n",
    "        ax.set_ylabel('True labels'); \n",
    "        ax.set_title(f'{label}');\n",
    "\n",
    "    plt.tight_layout()    \n",
    "    plt.show()"
   ]
  },
  {
   "cell_type": "code",
   "execution_count": 26,
   "id": "nasty-kernel",
   "metadata": {
    "execution": {
     "iopub.execute_input": "2021-10-13T13:31:06.179379Z",
     "iopub.status.busy": "2021-10-13T13:31:06.178683Z",
     "iopub.status.idle": "2021-10-13T13:31:08.141593Z",
     "shell.execute_reply": "2021-10-13T13:31:08.141007Z",
     "shell.execute_reply.started": "2021-10-06T19:50:50.914038Z"
    },
    "papermill": {
     "duration": 2.001615,
     "end_time": "2021-10-13T13:31:08.141746",
     "exception": false,
     "start_time": "2021-10-13T13:31:06.140131",
     "status": "completed"
    },
    "tags": []
   },
   "outputs": [
    {
     "data": {
      "image/png": "[encoded data removed]",
      "text/plain": [
       "<Figure size 1080x576 with 12 Axes>"
      ]
     },
     "metadata": {
      "needs_background": "light"
     },
     "output_type": "display_data"
    }
   ],
   "source": [
    "plot_confusion_matrix(y_true, y_pred_proba)"
   ]
  },
  {
   "cell_type": "markdown",
   "id": "dedicated-leader",
   "metadata": {
    "papermill": {
     "duration": 0.034236,
     "end_time": "2021-10-13T13:31:08.210246",
     "exception": false,
     "start_time": "2021-10-13T13:31:08.176010",
     "status": "completed"
    },
    "tags": []
   },
   "source": [
    "## Submission"
   ]
  },
  {
   "cell_type": "code",
   "execution_count": 27,
   "id": "connected-participant",
   "metadata": {
    "execution": {
     "iopub.execute_input": "2021-10-13T13:31:08.288424Z",
     "iopub.status.busy": "2021-10-13T13:31:08.287509Z",
     "iopub.status.idle": "2021-10-13T13:31:08.291335Z",
     "shell.execute_reply": "2021-10-13T13:31:08.290775Z",
     "shell.execute_reply.started": "2021-10-06T19:50:52.756537Z"
    },
    "papermill": {
     "duration": 0.046961,
     "end_time": "2021-10-13T13:31:08.291475",
     "exception": false,
     "start_time": "2021-10-13T13:31:08.244514",
     "status": "completed"
    },
    "tags": []
   },
   "outputs": [],
   "source": [
    "def save_submission(model):\n",
    "    image_ids = pd.read_csv(Config.SAMPLE_SUBMISSION_FILE)\n",
    "    \n",
    "    dataset = PlantDataset(\n",
    "        image_ids['image'], \n",
    "        image_ids['labels'], \n",
    "        transform=image_transfom, \n",
    "        kind='test'\n",
    "    )\n",
    "    \n",
    "    loader = DataLoader(dataset)\n",
    "\n",
    "    for idx, (X, _) in enumerate(loader):\n",
    "        X = X.float().to(Config.DEVICE)\n",
    "        y_pred = to_numpy(torch.argmax(model(X), dim=1))\n",
    "\n",
    "        pred_labels = ' '.join([Config.CLASSES[i] for i in y_pred]).strip()\n",
    "        image_ids.iloc[idx]['labels'] = pred_labels\n",
    "    \n",
    "    # save data frame as csv\n",
    "    image_ids.set_index('image', inplace=True)\n",
    "    image_ids.to_csv(Config.SUBMISSION_FILE)\n",
    "    \n",
    "    return image_ids"
   ]
  },
  {
   "cell_type": "code",
   "execution_count": 28,
   "id": "studied-field",
   "metadata": {
    "execution": {
     "iopub.execute_input": "2021-10-13T13:31:08.365407Z",
     "iopub.status.busy": "2021-10-13T13:31:08.364407Z",
     "iopub.status.idle": "2021-10-13T13:31:09.629809Z",
     "shell.execute_reply": "2021-10-13T13:31:09.630338Z",
     "shell.execute_reply.started": "2021-10-06T19:50:52.766183Z"
    },
    "papermill": {
     "duration": 1.304903,
     "end_time": "2021-10-13T13:31:09.630548",
     "exception": false,
     "start_time": "2021-10-13T13:31:08.325645",
     "status": "completed"
    },
    "tags": []
   },
   "outputs": [
    {
     "data": {
      "text/html": [
       "<div>\n",
       "<style scoped>\n",
       "    .dataframe tbody tr th:only-of-type {\n",
       "        vertical-align: middle;\n",
       "    }\n",
       "\n",
       "    .dataframe tbody tr th {\n",
       "        vertical-align: top;\n",
       "    }\n",
       "\n",
       "    .dataframe thead th {\n",
       "        text-align: right;\n",
       "    }\n",
       "</style>\n",
       "<table border=\"1\" class=\"dataframe\">\n",
       "  <thead>\n",
       "    <tr style=\"text-align: right;\">\n",
       "      <th></th>\n",
       "      <th>labels</th>\n",
       "    </tr>\n",
       "    <tr>\n",
       "      <th>image</th>\n",
       "      <th></th>\n",
       "    </tr>\n",
       "  </thead>\n",
       "  <tbody>\n",
       "    <tr>\n",
       "      <th>85f8cb619c66b863.jpg</th>\n",
       "      <td>scab</td>\n",
       "    </tr>\n",
       "    <tr>\n",
       "      <th>ad8770db05586b59.jpg</th>\n",
       "      <td>frog_eye_leaf_spot</td>\n",
       "    </tr>\n",
       "    <tr>\n",
       "      <th>c7b03e718489f3ca.jpg</th>\n",
       "      <td>frog_eye_leaf_spot</td>\n",
       "    </tr>\n",
       "  </tbody>\n",
       "</table>\n",
       "</div>"
      ],
      "text/plain": [
       "                                  labels\n",
       "image                                   \n",
       "85f8cb619c66b863.jpg                scab\n",
       "ad8770db05586b59.jpg  frog_eye_leaf_spot\n",
       "c7b03e718489f3ca.jpg  frog_eye_leaf_spot"
      ]
     },
     "execution_count": 28,
     "metadata": {},
     "output_type": "execute_result"
    }
   ],
   "source": [
    "save_submission(model)   "
   ]
  }
 ],
 "metadata": {
  "kernelspec": {
   "display_name": "Python 3",
   "language": "python",
   "name": "python3"
  },
  "language_info": {
   "codemirror_mode": {
    "name": "ipython",
    "version": 3
   },
   "file_extension": ".py",
   "mimetype": "text/x-python",
   "name": "python",
   "nbconvert_exporter": "python",
   "pygments_lexer": "ipython3",
   "version": "3.7.9"
  },
  "papermill": {
   "default_parameters": {},
   "duration": 86.151986,
   "end_time": "2021-10-13T13:31:10.880273",
   "environment_variables": {},
   "exception": null,
   "input_path": "__notebook__.ipynb",
   "output_path": "__notebook__.ipynb",
   "parameters": {},
   "start_time": "2021-10-13T13:29:44.728287",
   "version": "2.3.2"
  },
  "widgets": {
   "application/vnd.jupyter.widget-state+json": {
    "state": {
     "26845cbc5ace4b919c6e914f3d20baae": {
      "model_module": "@jupyter-widgets/controls",
      "model_module_version": "1.5.0",
      "model_name": "FloatProgressModel",
      "state": {
       "_dom_classes": [],
       "_model_module": "@jupyter-widgets/controls",
       "_model_module_version": "1.5.0",
       "_model_name": "FloatProgressModel",
       "_view_count": null,
       "_view_module": "@jupyter-widgets/controls",
       "_view_module_version": "1.5.0",
       "_view_name": "ProgressView",
       "bar_style": "success",
       "description": "",
       "description_tooltip": null,
       "layout": "IPY_MODEL_b1d132b0115d4dcf9a6a60eaf5ebff92",
       "max": 6.0,
       "min": 0.0,
       "orientation": "horizontal",
       "style": "IPY_MODEL_a66f3fa65e1a4a6b9477f89284b5341c",
       "value": 6.0
      }
     },
     "4ee729cc15b9442888322604437194e0": {
      "model_module": "@jupyter-widgets/controls",
      "model_module_version": "1.5.0",
      "model_name": "HBoxModel",
      "state": {
       "_dom_classes": [],
       "_model_module": "@jupyter-widgets/controls",
       "_model_module_version": "1.5.0",
       "_model_name": "HBoxModel",
       "_view_count": null,
       "_view_module": "@jupyter-widgets/controls",
       "_view_module_version": "1.5.0",
       "_view_name": "HBoxView",
       "box_style": "",
       "children": [
        "IPY_MODEL_f945dd00f9954d949035b1291f5eb9a2",
        "IPY_MODEL_26845cbc5ace4b919c6e914f3d20baae",
        "IPY_MODEL_d6559f93b0f24b909ce063f13de71ba7"
       ],
       "layout": "IPY_MODEL_73d5722c7fa9487d92f1cfaed006014d"
      }
     },
     "6f5b785fc829475cb374c71b4c451d56": {
      "model_module": "@jupyter-widgets/controls",
      "model_module_version": "1.5.0",
      "model_name": "DescriptionStyleModel",
      "state": {
       "_model_module": "@jupyter-widgets/controls",
       "_model_module_version": "1.5.0",
       "_model_name": "DescriptionStyleModel",
       "_view_count": null,
       "_view_module": "@jupyter-widgets/base",
       "_view_module_version": "1.2.0",
       "_view_name": "StyleView",
       "description_width": ""
      }
     },
     "73d5722c7fa9487d92f1cfaed006014d": {
      "model_module": "@jupyter-widgets/base",
      "model_module_version": "1.2.0",
      "model_name": "LayoutModel",
      "state": {
       "_model_module": "@jupyter-widgets/base",
       "_model_module_version": "1.2.0",
       "_model_name": "LayoutModel",
       "_view_count": null,
       "_view_module": "@jupyter-widgets/base",
       "_view_module_version": "1.2.0",
       "_view_name": "LayoutView",
       "align_content": null,
       "align_items": null,
       "align_self": null,
       "border": null,
       "bottom": null,
       "display": null,
       "flex": null,
       "flex_flow": null,
       "grid_area": null,
       "grid_auto_columns": null,
       "grid_auto_flow": null,
       "grid_auto_rows": null,
       "grid_column": null,
       "grid_gap": null,
       "grid_row": null,
       "grid_template_areas": null,
       "grid_template_columns": null,
       "grid_template_rows": null,
       "height": null,
       "justify_content": null,
       "justify_items": null,
       "left": null,
       "margin": null,
       "max_height": null,
       "max_width": null,
       "min_height": null,
       "min_width": null,
       "object_fit": null,
       "object_position": null,
       "order": null,
       "overflow": null,
       "overflow_x": null,
       "overflow_y": null,
       "padding": null,
       "right": null,
       "top": null,
       "visibility": null,
       "width": null
      }
     },
     "76bd93ae3ae4441eb5bcbd0182052806": {
      "model_module": "@jupyter-widgets/base",
      "model_module_version": "1.2.0",
      "model_name": "LayoutModel",
      "state": {
       "_model_module": "@jupyter-widgets/base",
       "_model_module_version": "1.2.0",
       "_model_name": "LayoutModel",
       "_view_count": null,
       "_view_module": "@jupyter-widgets/base",
       "_view_module_version": "1.2.0",
       "_view_name": "LayoutView",
       "align_content": null,
       "align_items": null,
       "align_self": null,
       "border": null,
       "bottom": null,
       "display": null,
       "flex": null,
       "flex_flow": null,
       "grid_area": null,
       "grid_auto_columns": null,
       "grid_auto_flow": null,
       "grid_auto_rows": null,
       "grid_column": null,
       "grid_gap": null,
       "grid_row": null,
       "grid_template_areas": null,
       "grid_template_columns": null,
       "grid_template_rows": null,
       "height": null,
       "justify_content": null,
       "justify_items": null,
       "left": null,
       "margin": null,
       "max_height": null,
       "max_width": null,
       "min_height": null,
       "min_width": null,
       "object_fit": null,
       "object_position": null,
       "order": null,
       "overflow": null,
       "overflow_x": null,
       "overflow_y": null,
       "padding": null,
       "right": null,
       "top": null,
       "visibility": null,
       "width": null
      }
     },
     "a66f3fa65e1a4a6b9477f89284b5341c": {
      "model_module": "@jupyter-widgets/controls",
      "model_module_version": "1.5.0",
      "model_name": "ProgressStyleModel",
      "state": {
       "_model_module": "@jupyter-widgets/controls",
       "_model_module_version": "1.5.0",
       "_model_name": "ProgressStyleModel",
       "_view_count": null,
       "_view_module": "@jupyter-widgets/base",
       "_view_module_version": "1.2.0",
       "_view_name": "StyleView",
       "bar_color": null,
       "description_width": ""
      }
     },
     "b1d132b0115d4dcf9a6a60eaf5ebff92": {
      "model_module": "@jupyter-widgets/base",
      "model_module_version": "1.2.0",
      "model_name": "LayoutModel",
      "state": {
       "_model_module": "@jupyter-widgets/base",
       "_model_module_version": "1.2.0",
       "_model_name": "LayoutModel",
       "_view_count": null,
       "_view_module": "@jupyter-widgets/base",
       "_view_module_version": "1.2.0",
       "_view_name": "LayoutView",
       "align_content": null,
       "align_items": null,
       "align_self": null,
       "border": null,
       "bottom": null,
       "display": null,
       "flex": null,
       "flex_flow": null,
       "grid_area": null,
       "grid_auto_columns": null,
       "grid_auto_flow": null,
       "grid_auto_rows": null,
       "grid_column": null,
       "grid_gap": null,
       "grid_row": null,
       "grid_template_areas": null,
       "grid_template_columns": null,
       "grid_template_rows": null,
       "height": null,
       "justify_content": null,
       "justify_items": null,
       "left": null,
       "margin": null,
       "max_height": null,
       "max_width": null,
       "min_height": null,
       "min_width": null,
       "object_fit": null,
       "object_position": null,
       "order": null,
       "overflow": null,
       "overflow_x": null,
       "overflow_y": null,
       "padding": null,
       "right": null,
       "top": null,
       "visibility": null,
       "width": null
      }
     },
     "cc11ae17716c4169bbcc886d5b00a4e6": {
      "model_module": "@jupyter-widgets/controls",
      "model_module_version": "1.5.0",
      "model_name": "DescriptionStyleModel",
      "state": {
       "_model_module": "@jupyter-widgets/controls",
       "_model_module_version": "1.5.0",
       "_model_name": "DescriptionStyleModel",
       "_view_count": null,
       "_view_module": "@jupyter-widgets/base",
       "_view_module_version": "1.2.0",
       "_view_name": "StyleView",
       "description_width": ""
      }
     },
     "d6559f93b0f24b909ce063f13de71ba7": {
      "model_module": "@jupyter-widgets/controls",
      "model_module_version": "1.5.0",
      "model_name": "HTMLModel",
      "state": {
       "_dom_classes": [],
       "_model_module": "@jupyter-widgets/controls",
       "_model_module_version": "1.5.0",
       "_model_name": "HTMLModel",
       "_view_count": null,
       "_view_module": "@jupyter-widgets/controls",
       "_view_module_version": "1.5.0",
       "_view_name": "HTMLView",
       "description": "",
       "description_tooltip": null,
       "layout": "IPY_MODEL_fd738078dc17465da5d72394cd9a1cf7",
       "placeholder": "​",
       "style": "IPY_MODEL_cc11ae17716c4169bbcc886d5b00a4e6",
       "value": " 6/6 [01:07&lt;00:00, 10.10s/it]"
      }
     },
     "f945dd00f9954d949035b1291f5eb9a2": {
      "model_module": "@jupyter-widgets/controls",
      "model_module_version": "1.5.0",
      "model_name": "HTMLModel",
      "state": {
       "_dom_classes": [],
       "_model_module": "@jupyter-widgets/controls",
       "_model_module_version": "1.5.0",
       "_model_name": "HTMLModel",
       "_view_count": null,
       "_view_module": "@jupyter-widgets/controls",
       "_view_module_version": "1.5.0",
       "_view_name": "HTMLView",
       "description": "",
       "description_tooltip": null,
       "layout": "IPY_MODEL_76bd93ae3ae4441eb5bcbd0182052806",
       "placeholder": "​",
       "style": "IPY_MODEL_6f5b785fc829475cb374c71b4c451d56",
       "value": "100%"
      }
     },
     "fd738078dc17465da5d72394cd9a1cf7": {
      "model_module": "@jupyter-widgets/base",
      "model_module_version": "1.2.0",
      "model_name": "LayoutModel",
      "state": {
       "_model_module": "@jupyter-widgets/base",
       "_model_module_version": "1.2.0",
       "_model_name": "LayoutModel",
       "_view_count": null,
       "_view_module": "@jupyter-widgets/base",
       "_view_module_version": "1.2.0",
       "_view_name": "LayoutView",
       "align_content": null,
       "align_items": null,
       "align_self": null,
       "border": null,
       "bottom": null,
       "display": null,
       "flex": null,
       "flex_flow": null,
       "grid_area": null,
       "grid_auto_columns": null,
       "grid_auto_flow": null,
       "grid_auto_rows": null,
       "grid_column": null,
       "grid_gap": null,
       "grid_row": null,
       "grid_template_areas": null,
       "grid_template_columns": null,
       "grid_template_rows": null,
       "height": null,
       "justify_content": null,
       "justify_items": null,
       "left": null,
       "margin": null,
       "max_height": null,
       "max_width": null,
       "min_height": null,
       "min_width": null,
       "object_fit": null,
       "object_position": null,
       "order": null,
       "overflow": null,
       "overflow_x": null,
       "overflow_y": null,
       "padding": null,
       "right": null,
       "top": null,
       "visibility": null,
       "width": null
      }
     }
    },
    "version_major": 2,
    "version_minor": 0
   }
  }
 },
 "nbformat": 4,
 "nbformat_minor": 5
}
